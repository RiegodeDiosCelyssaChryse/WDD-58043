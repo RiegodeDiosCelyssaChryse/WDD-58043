{
  "nbformat": 4,
  "nbformat_minor": 0,
  "metadata": {
    "colab": {
      "name": "Exercise1.ipynb",
      "provenance": [],
      "authorship_tag": "ABX9TyMeOoSj28yK3YbQQobPTQ4M",
      "include_colab_link": true
    },
    "kernelspec": {
      "name": "python3",
      "display_name": "Python 3"
    },
    "language_info": {
      "name": "python"
    }
  },
  "cells": [
    {
      "cell_type": "markdown",
      "metadata": {
        "id": "view-in-github",
        "colab_type": "text"
      },
      "source": [
        "<a href=\"https://colab.research.google.com/github/RiegodeDiosCelyssaChryse/WDD-58043/blob/main/Exercise1.ipynb\" target=\"_parent\"><img src=\"https://colab.research.google.com/assets/colab-badge.svg\" alt=\"Open In Colab\"/></a>"
      ]
    },
    {
      "cell_type": "markdown",
      "source": [
        "**Riego de Dios, Celyssa Chryse**\n",
        "\n",
        "**WDD - 58043**"
      ],
      "metadata": {
        "id": "7XgYw4GsBnka"
      }
    },
    {
      "cell_type": "code",
      "source": [
        "PI = 3.14\n",
        "r = float(input(\"Enter the radius value:\"))\n",
        "area = 3.14 * (r**2)\n",
        "print(\"area =\", area)"
      ],
      "metadata": {
        "colab": {
          "base_uri": "https://localhost:8080/"
        },
        "id": "2hXDyJ2RBNuy",
        "outputId": "b90dc4d5-c385-4164-a866-ca6e3e7dbadc"
      },
      "execution_count": 17,
      "outputs": [
        {
          "output_type": "stream",
          "name": "stdout",
          "text": [
            "Enter the radius value:1\n",
            "area = 3.14\n"
          ]
        }
      ]
    }
  ]
}